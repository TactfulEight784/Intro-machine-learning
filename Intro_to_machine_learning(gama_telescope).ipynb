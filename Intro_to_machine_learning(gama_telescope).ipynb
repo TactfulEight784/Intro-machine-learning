{
  "nbformat": 4,
  "nbformat_minor": 0,
  "metadata": {
    "colab": {
      "provenance": [],
      "authorship_tag": "ABX9TyPgGa3hdwtVYQewG+k5y7Dc",
      "include_colab_link": true
    },
    "kernelspec": {
      "name": "python3",
      "display_name": "Python 3"
    },
    "language_info": {
      "name": "python"
    }
  },
  "cells": [
    {
      "cell_type": "markdown",
      "metadata": {
        "id": "view-in-github",
        "colab_type": "text"
      },
      "source": [
        "<a href=\"https://colab.research.google.com/github/TactfulEight784/Intro-machine-learning/blob/main/Intro_to_machine_learning(gama_telescope).ipynb\" target=\"_parent\"><img src=\"https://colab.research.google.com/assets/colab-badge.svg\" alt=\"Open In Colab\"/></a>"
      ]
    },
    {
      "cell_type": "code",
      "execution_count": null,
      "metadata": {
        "id": "DWLEvqxXI_pi"
      },
      "outputs": [],
      "source": [
        "import numpy as np\n",
        "import pandas as pd\n",
        "import matplotlib.pyplot as plt\n",
        "from sklearn.preprocessing import StandardScaler\n",
        "from imblearn.over_sampling import RandomOverSampler"
      ]
    },
    {
      "cell_type": "code",
      "source": [
        "cols = [\"fLength\", \"fWidth\" , \"fSize\", \"fConc\", \"fConc1\", \"fAsym\" , \"fM3Long\" , \"fM3Trans\" , \"fAlpha\" , \"fDist\" , \"class\"]  #makes a list of the columns we want\n",
        "df = pd.read_csv(\"magic04.data\", names = cols) #reads the .data file and also adds the names to columns (df is the name but also stands for data frame which is what this is)\n",
        "df.head() #gives us the first 5 rows"
      ],
      "metadata": {
        "id": "OINKmS_8JYBd"
      },
      "execution_count": null,
      "outputs": []
    },
    {
      "cell_type": "code",
      "source": [
        "df[\"class\"] = (df[\"class\"] == \"g\").astype(int) #gives us which values are in the class column and converts it into ones and zeros so the conputer knows 1 = g , 0 = h"
      ],
      "metadata": {
        "id": "h9G912VWK0g-"
      },
      "execution_count": null,
      "outputs": []
    },
    {
      "cell_type": "code",
      "source": [
        "df.head() #now we can see the classes are in binary form"
      ],
      "metadata": {
        "id": "DzjpHFZ-LhRO"
      },
      "execution_count": null,
      "outputs": []
    },
    {
      "cell_type": "code",
      "source": [
        "for label in cols[:-1]: #for each lavel in cols besides the class (ending one early)\n",
        "  plt.hist(df[df[\"class\"] == 1][label], color='blue', label='gamma', alpha=0.7, density=True) #inside the data frame get me everything where class equals to 1 and getting it for each specific label being looped through\n",
        "  plt.hist(df[df[\"class\"] == 0][label], color='red', label='hadron', alpha=0.7, density=True)\n",
        "  #aplha is transparency, density normalizes distributions\n",
        "  plt.title(label)\n",
        "  plt.ylabel(\"Probablity\") #adds y label\n",
        "  plt.xlabel(label) #adds xlabel\n",
        "  plt.legend() #adds a ledgend with the labels\n",
        "  plt.show()  #shows the histogram"
      ],
      "metadata": {
        "id": "LUHpEAtAR6uW"
      },
      "execution_count": null,
      "outputs": []
    },
    {
      "cell_type": "markdown",
      "source": [
        "Train, Validation, test datasets"
      ],
      "metadata": {
        "id": "0uqT5IyAWelp"
      }
    },
    {
      "cell_type": "code",
      "source": [
        "train, valid, test = np.split(df.sample(frac=1), [int(0.6*len(df)), int(0.8*len(df))]) #splits the data frame between 0-60% 60-80 and 80-100 for the three variabels\n",
        "                     # also np.split splits the dataframe and df.sample(frac=1) causes it to take the whole dataframe from frac 1 and randomly assigns each data to the splits\n",
        "                     # basically saying take a random sample/data from the frame and add it to a split\n"
      ],
      "metadata": {
        "id": "Jyd_Ctr0Wmpa"
      },
      "execution_count": null,
      "outputs": []
    },
    {
      "cell_type": "code",
      "source": [
        "train #shows our train set\n"
      ],
      "metadata": {
        "id": "-0kRGlsXbjqL"
      },
      "execution_count": null,
      "outputs": []
    },
    {
      "cell_type": "code",
      "source": [
        "valid #shows our valid set"
      ],
      "metadata": {
        "id": "E1UZ6hsubpfy"
      },
      "execution_count": null,
      "outputs": []
    },
    {
      "cell_type": "code",
      "source": [
        "test #shows our test set"
      ],
      "metadata": {
        "id": "05xYpXDNbw3s"
      },
      "execution_count": null,
      "outputs": []
    },
    {
      "cell_type": "code",
      "source": [
        "def scaleDataset(dataframe, oversample=False):\n",
        "  X = dataframe[dataframe.columns[:-1]].values #getting all values for every cols in the frame besides the last\n",
        "  y = dataframe[dataframe.columns[-1]].values  #getting the last value for data\n",
        "\n",
        "  scaler = StandardScaler() #we scale the data so we dont have huge data points it makes it easier to work with\n",
        "  X = scaler.fit_transform(X) #take x and fit the standard scaler and the transform x thats the new x\n",
        "\n",
        "  if oversample:\n",
        "    ros = RandomOverSampler() #basically saying keep sampling until both classes are closer (gamma and hadron)\n",
        "    X, y = ros.fit_resample(X,y) #this line actually lets us re sample\n",
        "\n",
        "  data = np.hstack((X,np.reshape(y,(-1,1)))) #making a numpy array saying put x and y next to each other, np.reshape so x and y are the same size -1,1 the -1 same as len(y) 1 reshapes to a 2D array\n",
        "\n",
        "  return data, X, y\n",
        "\n"
      ],
      "metadata": {
        "id": "RAQZMAsKZCJN"
      },
      "execution_count": null,
      "outputs": []
    },
    {
      "cell_type": "code",
      "source": [
        "train , XTrain, yTrain = scaleDataset(train,True) #going to oversample so we get even hadron and gamma samples\n",
        "valid , XValid, yValid = scaleDataset(valid,False) #we dont oversample these because it wouldnt matter what matters here is new data\n",
        "test , XTest, yTest = scaleDataset(test,False) #same here we care more about the data being fresh"
      ],
      "metadata": {
        "id": "BU6gz7bLbY0g"
      },
      "execution_count": null,
      "outputs": []
    },
    {
      "cell_type": "code",
      "source": [
        "from sklearn.neighbors import KNeighborsClassifier\n",
        "from sklearn.metrics import classification_report"
      ],
      "metadata": {
        "id": "3G_V1mfqdiga"
      },
      "execution_count": null,
      "outputs": []
    },
    {
      "cell_type": "code",
      "source": [
        "knnModel = KNeighborsClassifier(n_neighbors=1) #loads knn with this many neighbors\n",
        "knnModel.fit(XTrain,yTrain) #trains the model with these values"
      ],
      "metadata": {
        "id": "K-WO615Kds4V"
      },
      "execution_count": null,
      "outputs": []
    },
    {
      "cell_type": "code",
      "source": [
        "yPrediction = knnModel.predict(XTest) #uses the trained model to predict the ytest"
      ],
      "metadata": {
        "id": "PD3vBnSSeMaq"
      },
      "execution_count": null,
      "outputs": []
    },
    {
      "cell_type": "code",
      "source": [
        "yPrediction\n"
      ],
      "metadata": {
        "id": "fZL3zOyFemCj"
      },
      "execution_count": null,
      "outputs": []
    },
    {
      "cell_type": "code",
      "source": [
        "yTest"
      ],
      "metadata": {
        "id": "XvJ6NUbAwxtI"
      },
      "execution_count": null,
      "outputs": []
    },
    {
      "cell_type": "code",
      "source": [
        "print(classification_report(yTest,yPrediction))"
      ],
      "metadata": {
        "id": "saJoHf6fw7ER"
      },
      "execution_count": null,
      "outputs": []
    }
  ]
}